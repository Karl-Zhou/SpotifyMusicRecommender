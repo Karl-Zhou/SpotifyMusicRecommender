{
 "cells": [
  {
   "cell_type": "markdown",
   "metadata": {},
   "source": [
    "This machine learning algorithm utilizes Collaborative Filtering via Matrix Factorization to suggest songs given a playlist name. Normal matrix factorization usually relates a user and their activity with another item. In this case here, a word (playlist) is being related with a spotify track (song). So we can give the machine learning model a playlist name, and it can recommend songs which it has seen before related to that playlist name.\n",
    "\n",
    "The dataset used here is a large list of previously made spotify playlists and their songs. You'll need to download the spotify recommendator challenge dataset from https://www.aicrowd.com/challenges/spotify-million-playlist-dataset-challenge and place it within the datasets/ folder for this code to work."
   ]
  },
  {
   "cell_type": "code",
   "execution_count": 1,
   "metadata": {},
   "outputs": [],
   "source": [
    "import pandas as pd\n",
    "import numpy as np\n",
    "import tensorflow as tf\n",
    "from tensorflow import keras\n",
    "import matplotlib.pyplot as plt\n",
    "import random\n",
    "from numpy import savetxt\n",
    "import re\n",
    "import spotipy\n",
    "from spotipy.oauth2 import SpotifyClientCredentials\n",
    "\n",
    "seed = 22\n",
    "np.random.seed(seed)\n",
    "\n",
    "auth_manager = SpotifyClientCredentials(client_id='5e87783324eb47cba39f43f39e374c71',client_secret='68427108059946e9abfa226df5780371')\n",
    "sp = spotipy.Spotify(auth_manager=auth_manager)"
   ]
  },
  {
   "cell_type": "markdown",
   "metadata": {},
   "source": [
    "Import data and filter out data that is not useful. Ex. playlists with no songs or no name or with no tracks"
   ]
  },
  {
   "cell_type": "code",
   "execution_count": 2,
   "metadata": {},
   "outputs": [],
   "source": [
    "def encode_values(col):\n",
    "    unique_items = np.unique(col)\n",
    "    items_to_encoded = {x: i for i, x in enumerate(unique_items)}\n",
    "    encoded_to_items = {i: x for i, x in enumerate(unique_items)}\n",
    "    return (items_to_encoded, encoded_to_items)\n",
    "\n",
    "playlist_df = pd.read_json('./datasets/challenge_set.json')\n",
    "playlist_series = playlist_df['playlists']\n",
    "playlist_data = []\n",
    "\n",
    "for item in playlist_series[::10]:\n",
    "    if len(item['tracks']) > 0 and 'name' in item and re.search(\"[a-zA-Z]+\", item['name']) is not None:\n",
    "        dataset = { 'name': item['name'].lower(), 'tracks': [] }\n",
    "        for track in item['tracks']:\n",
    "            dataset['tracks'].append(track['track_uri'].split(':')[2])\n",
    "        playlist_data.append(dataset)"
   ]
  },
  {
   "cell_type": "markdown",
   "metadata": {},
   "source": [
    "This code converts the data into a numeric encoded dataset which is more friendlier for machine learning."
   ]
  },
  {
   "cell_type": "code",
   "execution_count": 3,
   "metadata": {},
   "outputs": [
    {
     "data": {
      "text/plain": [
       "count                      13811\n",
       "unique                     13811\n",
       "top       000xQL6tZNLJzIrtIgxqSl\n",
       "freq                           1\n",
       "dtype: object"
      ]
     },
     "execution_count": 3,
     "metadata": {},
     "output_type": "execute_result"
    }
   ],
   "source": [
    "def flatten(l):\n",
    "    return [item for sublist in l for item in sublist]\n",
    "\n",
    "def encode_values(col):\n",
    "    unique_items = np.unique(col)\n",
    "    items_to_encoded = {x: i for i, x in enumerate(unique_items)}\n",
    "    encoded_to_items = {i: x for i, x in enumerate(unique_items)}\n",
    "    return (items_to_encoded, encoded_to_items)\n",
    "\n",
    "playlists = [playlist['name'].split(' ') for playlist in playlist_data]\n",
    "playlists = pd.Series(np.unique(flatten(playlists)))\n",
    "playlist_items_to_encoded, playlist_encoded_to_items = encode_values(playlists)\n",
    "encoded_playlists = playlists.map(playlist_items_to_encoded)\n",
    "\n",
    "tracks = [playlist['tracks'] for playlist in playlist_data]\n",
    "tracks = pd.Series(np.unique(flatten(tracks)))\n",
    "track_id_items_to_encoded, track_id_encoded_to_items = encode_values(tracks)\n",
    "encoded_tracks = tracks.map(track_id_items_to_encoded)\n",
    "\n",
    "playlists.describe()\n",
    "tracks.describe()"
   ]
  },
  {
   "cell_type": "markdown",
   "metadata": {},
   "source": [
    "This code builds a histogram of which songs are in which playlist word. This is used to generate the training and test dataset."
   ]
  },
  {
   "cell_type": "code",
   "execution_count": 4,
   "metadata": {},
   "outputs": [
    {
     "name": "stdout",
     "output_type": "stream",
     "text": [
      "(6449737, 2)\n",
      "(6449737,)\n"
     ]
    }
   ],
   "source": [
    "playlist_histogram = {playlist_id: [] for playlist_id in encoded_playlists}\n",
    "\n",
    "for playlist in playlist_data:\n",
    "    for name in playlist['name'].lower().split(' '):\n",
    "        for track in playlist['tracks']:\n",
    "            playlist_histogram[playlist_items_to_encoded[name]].append(track_id_items_to_encoded[track])\n",
    "\n",
    "x = np.empty((len(playlists) * len(tracks), 2), np.uintc)\n",
    "y = np.zeros(len(playlists) * len(tracks), np.byte)\n",
    "\n",
    "for playlist_id, histogram_track_ids in playlist_histogram.items():\n",
    "    # iterate though histogram\n",
    "    for track_id in histogram_track_ids:\n",
    "        index = playlist_id * len(playlists) + track_id\n",
    "        y[index] = 1\n",
    "\n",
    "    # iterate through all tracks\n",
    "    for track_id in encoded_tracks:\n",
    "        index = playlist_id * len(playlists) + track_id\n",
    "        x[index][0] = playlist_id\n",
    "        x[index][1] = track_id\n",
    "\n",
    "array_shuffle = np.arange(len(x))\n",
    "np.random.shuffle(array_shuffle)\n",
    "\n",
    "x = np.array(x)[array_shuffle]\n",
    "y = np.array(y)[array_shuffle]\n",
    "\n",
    "print(x.shape)\n",
    "print(y.shape)\n",
    "\n",
    "train_indices = int(0.9 * len(x))\n",
    "x_train = x[:train_indices]\n",
    "y_train = y[:train_indices]\n",
    "x_test = x[train_indices:]\n",
    "y_test = y[train_indices:]"
   ]
  },
  {
   "cell_type": "markdown",
   "metadata": {},
   "source": [
    "Matrix Factorization machine learning algorithm which utilizes Embedding layers to approximate the original feedback matrix A. A low learning rate was used here due to the large dataset and batch size. A default size of 400 is used for the embedding layers."
   ]
  },
  {
   "cell_type": "code",
   "execution_count": 5,
   "metadata": {},
   "outputs": [],
   "source": [
    "class TrackRecommender(keras.Model):\n",
    "    def __init__(self, playlist_count, track_count, embedding_size, **kwargs):\n",
    "        super().__init__(**kwargs)\n",
    "        self.playlist_embedding = keras.layers.Embedding(\n",
    "            playlist_count,\n",
    "            embedding_size,\n",
    "            embeddings_initializer=\"he_normal\",\n",
    "            embeddings_regularizer=keras.regularizers.l2(1e-6),\n",
    "        )\n",
    "        self.playlist_bias = keras.layers.Embedding(playlist_count, 1)\n",
    "        self.track_embedding = keras.layers.Embedding(\n",
    "            track_count,\n",
    "            embedding_size,\n",
    "            embeddings_initializer=\"he_normal\",\n",
    "            embeddings_regularizer=keras.regularizers.l2(1e-6),\n",
    "        )\n",
    "        self.track_bias = keras.layers.Embedding(track_count, 1)\n",
    "\n",
    "    def call(self, inputs):\n",
    "        playlist_vector = self.playlist_embedding(inputs[:, 0])\n",
    "        playlist_bias = self.playlist_bias(inputs[:, 0])\n",
    "        track_vector = self.track_embedding(inputs[:, 1])\n",
    "        track_bias = self.track_bias(inputs[:, 1])\n",
    "        \n",
    "        dot = tf.tensordot(playlist_vector, track_vector, 2)\n",
    "        x = dot + playlist_bias + track_bias\n",
    "        return tf.nn.sigmoid(x)\n",
    "\n",
    "model = TrackRecommender(len(playlists), len(tracks), 400)\n",
    "model.compile(\n",
    "    loss='binary_crossentropy',\n",
    "    optimizer=keras.optimizers.Adam(learning_rate=0.00001),\n",
    "    metrics=['accuracy']\n",
    ")"
   ]
  },
  {
   "cell_type": "code",
   "execution_count": 6,
   "metadata": {},
   "outputs": [
    {
     "name": "stdout",
     "output_type": "stream",
     "text": [
      "Epoch 1/10\n",
      "59/59 [==============================] - 15s 245ms/step - loss: 2088.2273 - accuracy: 0.0050 - val_loss: 1324.6385 - val_accuracy: 0.0051\n",
      "Epoch 2/10\n",
      "59/59 [==============================] - 14s 240ms/step - loss: 673.4083 - accuracy: 0.0399 - val_loss: 0.3596 - val_accuracy: 0.9949\n",
      "Epoch 3/10\n",
      "59/59 [==============================] - 14s 242ms/step - loss: 1.0923 - accuracy: 0.9950 - val_loss: 1.1825 - val_accuracy: 0.9949\n",
      "Epoch 4/10\n",
      "59/59 [==============================] - 14s 239ms/step - loss: 1.1966 - accuracy: 0.9950 - val_loss: 1.1410 - val_accuracy: 0.9949\n",
      "Epoch 5/10\n",
      "59/59 [==============================] - 14s 241ms/step - loss: 1.1583 - accuracy: 0.9950 - val_loss: 1.1000 - val_accuracy: 0.9949\n",
      "Epoch 6/10\n",
      "59/59 [==============================] - 14s 239ms/step - loss: 1.1047 - accuracy: 0.9950 - val_loss: 1.0369 - val_accuracy: 0.9949\n",
      "Epoch 7/10\n",
      "59/59 [==============================] - 14s 239ms/step - loss: 1.0382 - accuracy: 0.9950 - val_loss: 0.9629 - val_accuracy: 0.9949\n",
      "Epoch 8/10\n",
      "59/59 [==============================] - 14s 238ms/step - loss: 0.9537 - accuracy: 0.9950 - val_loss: 0.8731 - val_accuracy: 0.9949\n",
      "Epoch 9/10\n",
      "59/59 [==============================] - 14s 238ms/step - loss: 0.8603 - accuracy: 0.9950 - val_loss: 0.7908 - val_accuracy: 0.9949\n",
      "Epoch 10/10\n",
      "59/59 [==============================] - 14s 236ms/step - loss: 0.7718 - accuracy: 0.9950 - val_loss: 0.6925 - val_accuracy: 0.9949\n"
     ]
    }
   ],
   "source": [
    "history = model.fit(\n",
    "    x=x_train,\n",
    "    y=y_train,\n",
    "    batch_size=100000,\n",
    "    epochs=10,\n",
    "    verbose=1,\n",
    "    validation_data=(x_test, y_test),\n",
    ")"
   ]
  },
  {
   "cell_type": "code",
   "execution_count": 7,
   "metadata": {},
   "outputs": [
    {
     "data": {
      "image/png": "[encoded data removed]",
      "text/plain": [
       "<Figure size 432x288 with 1 Axes>"
      ]
     },
     "metadata": {
      "needs_background": "light"
     },
     "output_type": "display_data"
    }
   ],
   "source": [
    "plt.plot(history.history[\"loss\"])\n",
    "plt.plot(history.history[\"val_loss\"])\n",
    "plt.title(\"model loss\")\n",
    "plt.ylabel(\"loss\")\n",
    "plt.xlabel(\"epoch\")\n",
    "plt.legend([\"train\", \"test\"])\n",
    "plt.show()"
   ]
  },
  {
   "cell_type": "markdown",
   "metadata": {},
   "source": [
    "Utilize the model and the Spotify API to see the songs that are recommended. The 5 highest songs are recommended."
   ]
  },
  {
   "cell_type": "code",
   "execution_count": 31,
   "metadata": {},
   "outputs": [
    {
     "name": "stdout",
     "output_type": "stream",
     "text": [
      "Selected playlist name: pop love\n",
      "Running recommendation:\n",
      "432/432 [==============================] - 0s 606us/step\n",
      "432/432 [==============================] - 0s 603us/step\n",
      "Recommended Songs:\n",
      "Track: Panda [112lQZi5e7i8ohZ4z0e6nu]\n",
      "Recommendation Strength: 0.3170314\n",
      "Artists: Desiigner\n",
      "Genres: pop rap, rap, southern hip hop, trap, viral trap\n",
      "----\n",
      "Track: Love and Memories [4P8R77nB50xhmP0lyQXcoJ]\n",
      "Recommendation Strength: 0.3166412\n",
      "Artists: O.A.R.\n",
      "Genres: neo mellow, pop rock\n",
      "----\n",
      "Track: OMG [4Ow5x7P5NAAR1jPoskudoA]\n",
      "Recommendation Strength: 0.31626973\n",
      "Artists: USHER, will.i.am\n",
      "Genres: atl hip hop, contemporary r&b, dance pop, pop, r&b, rap, south carolina hip hop, urban contemporary\n",
      "----\n",
      "Track: Come As You Are [4P5KoWXOxwuobLmHXLMobV]\n",
      "Recommendation Strength: 0.31560233\n",
      "Artists: Nirvana\n",
      "Genres: grunge, permanent wave, rock\n",
      "----\n",
      "Track: Chasing Cars [11bD1JtSjlIgKgZG2134DZ]\n",
      "Recommendation Strength: 0.31534985\n",
      "Artists: Snow Patrol\n",
      "Genres: irish rock, modern rock, neo mellow, permanent wave, pop rock\n",
      "----\n"
     ]
    }
   ],
   "source": [
    "# choose a playlist name here\n",
    "playlist_name = 'pop love'\n",
    "# names to use: 'country rock', 'pop love'\n",
    "\n",
    "def predict(word):\n",
    "    playlist_id = playlist_items_to_encoded[word]\n",
    "\n",
    "    input1 = [[item] for item in np.repeat(playlist_id, len(tracks))]\n",
    "    input2 = [[item] for item in list(track_id_encoded_to_items.keys())]\n",
    "    input_matrix = np.hstack((input1, input2))\n",
    "\n",
    "    return np.array(model.predict(input_matrix).flatten())\n",
    "\n",
    "print('Selected playlist name: ' + playlist_name)\n",
    "playlist_name = playlist_name.lower()\n",
    "\n",
    "print('Running recommendation:')\n",
    "valid_words = [name for name in playlist_name.split(' ') if name in playlist_items_to_encoded]\n",
    "\n",
    "if (len(valid_words) == 0):\n",
    "    raise ValueError('No searchable playlist keywords found.')\n",
    "\n",
    "prediction_list = [predict(word) for word in valid_words]\n",
    "prediction = np.prod(np.vstack(prediction_list), axis=0)\n",
    "\n",
    "recommended_indices = np.argsort(prediction)[::-1][:5]\n",
    "recommended_tracks = [sp.track(track_id_encoded_to_items[index]) for index in recommended_indices]\n",
    "\n",
    "prediction.sort()\n",
    "prediction_values = prediction[::-1][:5]\n",
    "print('Recommended Songs:')\n",
    "for index, track in enumerate(recommended_tracks):\n",
    "    #print(track)\n",
    "    print('Track: ' + track['name'] + ' [' + track['id'] + ']')\n",
    "    print('Recommendation Strength: ' + str(prediction_values[index]))\n",
    "    artists = sp.artists([artist['id'] for artist in track['artists']])['artists']\n",
    "    artist_names = [artist['name'] for artist in artists]\n",
    "    artist_genres = np.unique(flatten([artist['genres'] for artist in artists]))\n",
    "    print('Artists: ' + str.join(', ', artist_names))\n",
    "    print('Genres: ' + str.join(', ', artist_genres))\n",
    "    print('----')\n"
   ]
  }
 ],
 "metadata": {
  "kernelspec": {
   "display_name": "Python 3",
   "language": "python",
   "name": "python3"
  },
  "language_info": {
   "codemirror_mode": {
    "name": "ipython",
    "version": 3
   },
   "file_extension": ".py",
   "mimetype": "text/x-python",
   "name": "python",
   "nbconvert_exporter": "python",
   "pygments_lexer": "ipython3",
   "version": "3.9.0"
  }
 },
 "nbformat": 4,
 "nbformat_minor": 2
}
