{
 "cells": [
  {
   "cell_type": "code",
   "execution_count": 1,
   "metadata": {},
   "outputs": [],
   "source": [
    "import pandas as pd\n",
    "import numpy as np\n",
    "import tensorflow as tf\n",
    "from tensorflow import keras\n",
    "import matplotlib.pyplot as plt\n",
    "import random\n",
    "from numpy import savetxt\n",
    "import re\n",
    "import spotipy\n",
    "from spotipy.oauth2 import SpotifyClientCredentials\n",
    "\n",
    "seed = 22\n",
    "np.random.seed(seed)\n",
    "\n",
    "auth_manager = SpotifyClientCredentials(client_id='5e87783324eb47cba39f43f39e374c71',client_secret='68427108059946e9abfa226df5780371')\n",
    "sp = spotipy.Spotify(auth_manager=auth_manager)"
   ]
  },
  {
   "cell_type": "code",
   "execution_count": 2,
   "metadata": {},
   "outputs": [],
   "source": [
    "def flatten(l):\n",
    "    return [item for sublist in l for item in sublist]\n",
    "\n",
    "def encode_values(col):\n",
    "    unique_items = np.unique(col)\n",
    "    items_to_encoded = {x: i for i, x in enumerate(unique_items)}\n",
    "    encoded_to_items = {i: x for i, x in enumerate(unique_items)}\n",
    "    return (items_to_encoded, encoded_to_items)\n",
    "\n",
    "playlist_df = pd.read_json('./datasets/challenge_set.json')\n",
    "playlist_series = playlist_df['playlists']\n",
    "playlist_data = []\n",
    "\n",
    "for item in playlist_series:\n",
    "    if len(item['tracks']) > 0 and 'name' in item and re.search(\"[a-zA-Z]+\", item['name']) is not None:\n",
    "        dataset = { 'name': item['name'].lower(), 'tracks': [] }\n",
    "        for track in item['tracks']:\n",
    "            dataset['tracks'].append(track['track_uri'].split(':')[2])\n",
    "        playlist_data.append(dataset)"
   ]
  },
  {
   "cell_type": "code",
   "execution_count": 3,
   "metadata": {},
   "outputs": [],
   "source": [
    "playlists = [playlist['name'].split(' ') for playlist in playlist_data]\n",
    "playlists = pd.Series(np.unique(flatten(playlists)))\n",
    "playlist_items_to_encoded, playlist_encoded_to_items = encode_values(playlists)\n",
    "encoded_playlists = playlists.map(playlist_items_to_encoded)\n",
    "\n",
    "tracks = [playlist['tracks'] for playlist in playlist_data]\n",
    "tracks = pd.Series(np.unique(flatten(tracks)))\n",
    "track_id_items_to_encoded, track_id_encoded_to_items = encode_values(tracks)\n",
    "encoded_tracks = tracks.map(track_id_items_to_encoded)"
   ]
  },
  {
   "cell_type": "code",
   "execution_count": 4,
   "metadata": {},
   "outputs": [],
   "source": [
    "playlist_histogram = {playlist_id: set() for playlist_id in encoded_playlists}\n",
    "\n",
    "for playlist in playlist_data:\n",
    "    for name in playlist['name'].lower().split(' '):\n",
    "        for track in playlist['tracks']:\n",
    "            playlist_histogram[playlist_items_to_encoded[name]].add(track_id_items_to_encoded[track])\n",
    "\n",
    "x = np.empty((len(playlists) * len(tracks), 2), np.uintc)\n",
    "y = np.zeros(len(playlists) * len(tracks), np.byte)\n",
    "\n",
    "for playlist_id, histogram_track_ids in playlist_histogram.items():\n",
    "    # iterate though histogram\n",
    "    for track_id in histogram_track_ids:\n",
    "        index = playlist_id * len(playlists) + track_id\n",
    "        y[index] = 1\n",
    "\n",
    "    # iterate through all tracks\n",
    "    for track_id in encoded_tracks:\n",
    "        index = playlist_id * len(playlists) + track_id\n",
    "        x[index][0] = playlist_id\n",
    "        x[index][1] = track_id\n",
    "\n",
    "array_shuffle = np.arange(len(x))\n",
    "np.random.shuffle(array_shuffle)\n",
    "\n",
    "x = np.array(x)[array_shuffle]\n",
    "y = np.array(y)[array_shuffle]\n",
    "\n",
    "train_indices = int(0.9 * len(x))\n",
    "x_train = x[:train_indices]\n",
    "y_train = y[:train_indices]\n",
    "x_test = x[train_indices:]\n",
    "y_test = y[train_indices:]"
   ]
  },
  {
   "cell_type": "code",
   "execution_count": 5,
   "metadata": {},
   "outputs": [],
   "source": [
    "class TrackRecommender(keras.Model):\n",
    "    def __init__(self, playlist_count, track_count, embedding_size, **kwargs):\n",
    "        super().__init__(**kwargs)\n",
    "        self.playlist_embedding = keras.layers.Embedding(\n",
    "            playlist_count,\n",
    "            embedding_size,\n",
    "            embeddings_initializer=\"he_normal\",\n",
    "            embeddings_regularizer=keras.regularizers.l2(1e-6),\n",
    "        )\n",
    "        self.playlist_bias = keras.layers.Embedding(playlist_count, 1)\n",
    "        self.track_embedding = keras.layers.Embedding(\n",
    "            track_count,\n",
    "            embedding_size,\n",
    "            embeddings_initializer=\"he_normal\",\n",
    "            embeddings_regularizer=keras.regularizers.l2(1e-6),\n",
    "        )\n",
    "        self.track_bias = keras.layers.Embedding(track_count, 1)\n",
    "\n",
    "    def call(self, inputs):\n",
    "        playlist_vector = self.playlist_embedding(inputs[:, 0])\n",
    "        playlist_bias = self.playlist_bias(inputs[:, 0])\n",
    "        track_vector = self.track_embedding(inputs[:, 1])\n",
    "        track_bias = self.track_bias(inputs[:, 1])\n",
    "        \n",
    "        dot = tf.tensordot(playlist_vector, track_vector, 2)\n",
    "        x = dot + playlist_bias + track_bias\n",
    "        return tf.nn.sigmoid(x)\n",
    "\n",
    "model = TrackRecommender(len(playlists), len(tracks), 100)\n",
    "model.compile(\n",
    "    loss='binary_crossentropy',\n",
    "    optimizer='adam',\n",
    "    metrics=['accuracy']\n",
    ")"
   ]
  },
  {
   "cell_type": "code",
   "execution_count": 6,
   "metadata": {},
   "outputs": [
    {
     "name": "stdout",
     "output_type": "stream",
     "text": [
      "Epoch 1/5\n"
     ]
    }
   ],
   "source": [
    "history = model.fit(\n",
    "    x=x_train,\n",
    "    y=y_train,\n",
    "    batch_size=128,\n",
    "    epochs=5,\n",
    "    verbose=2,\n",
    "    validation_data=(x_test, y_test),\n",
    ")"
   ]
  },
  {
   "cell_type": "code",
   "execution_count": null,
   "metadata": {},
   "outputs": [],
   "source": [
    "plt.plot(history.history[\"loss\"])\n",
    "plt.plot(history.history[\"val_loss\"])\n",
    "plt.title(\"model loss\")\n",
    "plt.ylabel(\"loss\")\n",
    "plt.xlabel(\"epoch\")\n",
    "plt.legend([\"train\", \"test\"])\n",
    "plt.show()"
   ]
  },
  {
   "cell_type": "code",
   "execution_count": null,
   "metadata": {},
   "outputs": [],
   "source": [
    "playlist_name = 'spanish'.lower()\n",
    "print('Selected playlist name: ' + playlist_name)\n",
    "\n",
    "playlist_id = playlist_items_to_encoded[playlist_name]\n",
    "\n",
    "input1 = [[item] for item in np.repeat(playlist_id, len(tracks))]\n",
    "input2 = [[item] for item in list(track_id_encoded_to_items.keys())]\n",
    "input_matrix = np.hstack((input1, input2))\n",
    "\n",
    "print('Running recommendation:')\n",
    "prediction = model.predict(input_matrix).flatten()\n",
    "\n",
    "recommended_indices = np.argsort(prediction)[::-1][:5]\n",
    "recommended_tracks = [sp.track(track_id_encoded_to_items[index]) for index in recommended_indices]\n",
    "\n",
    "prediction.sort()\n",
    "prediction_values = prediction[::-1][:5]\n",
    "print('Recommended Songs:')\n",
    "for index, track in enumerate(recommended_tracks):\n",
    "    #print(track)\n",
    "    print('Track: ' + track['name'])\n",
    "    print('Recommendation Strength: ' + str(prediction_values[index]))\n",
    "    artists = sp.artists([artist['id'] for artist in track['artists']])['artists']\n",
    "    artist_names = [artist['name'] for artist in artists]\n",
    "    artist_genres = np.unique(flatten([artist['genres'] for artist in artists]))\n",
    "    print('Artists: ' + str.join(', ', artist_names))\n",
    "    print('Genres: ' + str.join(', ', artist_genres))\n",
    "    print('----')\n"
   ]
  }
 ],
 "metadata": {
  "kernelspec": {
   "display_name": "Python 3",
   "language": "python",
   "name": "python3"
  },
  "language_info": {
   "codemirror_mode": {
    "name": "ipython",
    "version": 3
   },
   "file_extension": ".py",
   "mimetype": "text/x-python",
   "name": "python",
   "nbconvert_exporter": "python",
   "pygments_lexer": "ipython3",
   "version": "3.9.0"
  }
 },
 "nbformat": 4,
 "nbformat_minor": 2
}
