{
 "cells": [
  {
   "cell_type": "code",
   "execution_count": 7,
   "metadata": {},
   "outputs": [
    {
     "name": "stdout",
     "output_type": "stream",
     "text": [
      "(1000, 100)\n",
      "(1000,)\n",
      "Epoch 1/3\n",
      "32/32 [==============================] - 0s 807us/step - loss: 2.4704 - accuracy: 0.3530\n",
      "Epoch 2/3\n",
      "32/32 [==============================] - 0s 787us/step - loss: 1.5952 - accuracy: 0.3680\n",
      "Epoch 3/3\n",
      "32/32 [==============================] - 0s 742us/step - loss: 1.3121 - accuracy: 0.4050\n",
      "1/1 [==============================] - 0s 25ms/step\n"
     ]
    },
    {
     "data": {
      "text/plain": [
       "array([[0.05810641, 0.5433103 , 0.3985833 ]], dtype=float32)"
      ]
     },
     "execution_count": 7,
     "metadata": {},
     "output_type": "execute_result"
    }
   ],
   "source": [
    "import pandas as pd\n",
    "import numpy as np\n",
    "import tensorflow as tf\n",
    "from tensorflow import keras\n",
    "import matplotlib.pyplot as plt\n",
    "from keras.utils import to_categorical\n",
    "\n",
    "n_class = 3\n",
    "n_features = 100\n",
    "n_sample = 1000\n",
    "\n",
    "X = np.random.randint(0,10, (n_sample,n_features))\n",
    "y = np.random.randint(0,n_class, n_sample)\n",
    "\n",
    "print(X.shape)\n",
    "print(y.shape)\n",
    "\n",
    "inp = keras.layers.Input((n_features,))\n",
    "x = keras.layers.Dense(128, activation='relu')(inp)\n",
    "out = keras.layers.Dense(n_class, activation='softmax')(x)\n",
    "\n",
    "model = keras.Model(inp, out)\n",
    "model.compile(loss='sparse_categorical_crossentropy',optimizer='adam',metrics=['accuracy'])\n",
    "history = model.fit(X, y, epochs=3)\n",
    "\n",
    "model.predict(np.random.randint(0,10, (1,n_features)))"
   ]
  }
 ],
 "metadata": {
  "kernelspec": {
   "display_name": "Python 3",
   "language": "python",
   "name": "python3"
  },
  "language_info": {
   "codemirror_mode": {
    "name": "ipython",
    "version": 3
   },
   "file_extension": ".py",
   "mimetype": "text/x-python",
   "name": "python",
   "nbconvert_exporter": "python",
   "pygments_lexer": "ipython3",
   "version": "3.9.0"
  }
 },
 "nbformat": 4,
 "nbformat_minor": 2
}
