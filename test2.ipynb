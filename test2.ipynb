{
 "cells": [
  {
   "cell_type": "code",
   "execution_count": 1,
   "metadata": {},
   "outputs": [
    {
     "name": "stdout",
     "output_type": "stream",
     "text": [
      "(1000, 100)\n",
      "(1000, 3)\n",
      "Epoch 1/3\n",
      "32/32 [==============================] - 0s 839us/step - loss: 1.9562 - accuracy: 0.3250\n",
      "Epoch 2/3\n",
      "32/32 [==============================] - 0s 791us/step - loss: 1.3968 - accuracy: 0.3650\n",
      "Epoch 3/3\n",
      "32/32 [==============================] - 0s 774us/step - loss: 1.2136 - accuracy: 0.4300\n"
     ]
    }
   ],
   "source": [
    "import pandas as pd\n",
    "import numpy as np\n",
    "import tensorflow as tf\n",
    "from tensorflow import keras\n",
    "import matplotlib.pyplot as plt\n",
    "from keras.utils import to_categorical\n",
    "\n",
    "n_class = 3\n",
    "n_features = 100\n",
    "n_sample = 1000\n",
    "\n",
    "X = np.random.randint(0,10, (n_sample,n_features))\n",
    "y = pd.get_dummies(np.random.randint(0,n_class, n_sample)).values\n",
    "\n",
    "print(X.shape)\n",
    "print(y.shape)\n",
    "\n",
    "inp = keras.layers.Input((n_features,))\n",
    "x = keras.layers.Dense(128, activation='relu')(inp)\n",
    "out = keras.layers.Dense(n_class, activation='softmax')(x)\n",
    "\n",
    "model = keras.Model(inp, out)\n",
    "model.compile(loss='categorical_crossentropy',optimizer='adam',metrics=['accuracy'])\n",
    "history = model.fit(X, y, epochs=3)"
   ]
  }
 ],
 "metadata": {
  "kernelspec": {
   "display_name": "Python 3",
   "language": "python",
   "name": "python3"
  },
  "language_info": {
   "codemirror_mode": {
    "name": "ipython",
    "version": 3
   },
   "file_extension": ".py",
   "mimetype": "text/x-python",
   "name": "python",
   "nbconvert_exporter": "python",
   "pygments_lexer": "ipython3",
   "version": "3.9.0"
  }
 },
 "nbformat": 4,
 "nbformat_minor": 2
}
